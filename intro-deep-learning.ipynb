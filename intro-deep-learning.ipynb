{
 "cells": [
  {
   "cell_type": "code",
   "execution_count": 1,
   "id": "263c9c8d",
   "metadata": {
    "execution": {
     "iopub.execute_input": "2024-05-12T01:19:53.428177Z",
     "iopub.status.busy": "2024-05-12T01:19:53.427776Z",
     "iopub.status.idle": "2024-05-12T01:19:53.444837Z",
     "shell.execute_reply": "2024-05-12T01:19:53.443873Z"
    },
    "papermill": {
     "duration": 0.02577,
     "end_time": "2024-05-12T01:19:53.446779",
     "exception": false,
     "start_time": "2024-05-12T01:19:53.421009",
     "status": "completed"
    },
    "tags": []
   },
   "outputs": [
    {
     "name": "stderr",
     "output_type": "stream",
     "text": [
      "/tmp/ipykernel_18/3529637584.py:7: MatplotlibDeprecationWarning: The seaborn styles shipped by Matplotlib are deprecated since 3.6, as they no longer correspond to the styles shipped by seaborn. However, they will remain available as 'seaborn-v0_8-<style>'. Alternatively, directly use the seaborn API instead.\n",
      "  plt.style.use('seaborn-whitegrid')\n"
     ]
    }
   ],
   "source": [
    "# Setup plotting\n",
    "import matplotlib.pyplot as plt\n",
    "\n",
    "import os\n",
    "os.listdir('/kaggle/input/')\n",
    "\n",
    "plt.style.use('seaborn-whitegrid')\n",
    "# Set Matplotlib defaults\n",
    "plt.rc('figure', autolayout=True)\n",
    "plt.rc('axes', labelweight='bold', labelsize='large',\n",
    "       titleweight='bold', titlesize=18, titlepad=10)"
   ]
  },
  {
   "cell_type": "code",
   "execution_count": 2,
   "id": "0c81e8cd",
   "metadata": {
    "execution": {
     "iopub.execute_input": "2024-05-12T01:19:53.457950Z",
     "iopub.status.busy": "2024-05-12T01:19:53.457185Z",
     "iopub.status.idle": "2024-05-12T01:19:54.292627Z",
     "shell.execute_reply": "2024-05-12T01:19:54.291538Z"
    },
    "papermill": {
     "duration": 0.843499,
     "end_time": "2024-05-12T01:19:54.295229",
     "exception": false,
     "start_time": "2024-05-12T01:19:53.451730",
     "status": "completed"
    },
    "tags": []
   },
   "outputs": [
    {
     "data": {
      "text/html": [
       "<div>\n",
       "<style scoped>\n",
       "    .dataframe tbody tr th:only-of-type {\n",
       "        vertical-align: middle;\n",
       "    }\n",
       "\n",
       "    .dataframe tbody tr th {\n",
       "        vertical-align: top;\n",
       "    }\n",
       "\n",
       "    .dataframe thead th {\n",
       "        text-align: right;\n",
       "    }\n",
       "</style>\n",
       "<table border=\"1\" class=\"dataframe\">\n",
       "  <thead>\n",
       "    <tr style=\"text-align: right;\">\n",
       "      <th></th>\n",
       "      <th>fixed acidity</th>\n",
       "      <th>volatile acidity</th>\n",
       "      <th>citric acid</th>\n",
       "      <th>residual sugar</th>\n",
       "      <th>chlorides</th>\n",
       "      <th>free sulfur dioxide</th>\n",
       "      <th>total sulfur dioxide</th>\n",
       "      <th>density</th>\n",
       "      <th>pH</th>\n",
       "      <th>sulphates</th>\n",
       "      <th>alcohol</th>\n",
       "      <th>quality</th>\n",
       "    </tr>\n",
       "  </thead>\n",
       "  <tbody>\n",
       "    <tr>\n",
       "      <th>0</th>\n",
       "      <td>7.4</td>\n",
       "      <td>0.70</td>\n",
       "      <td>0.00</td>\n",
       "      <td>1.9</td>\n",
       "      <td>0.076</td>\n",
       "      <td>11.0</td>\n",
       "      <td>34.0</td>\n",
       "      <td>0.9978</td>\n",
       "      <td>3.51</td>\n",
       "      <td>0.56</td>\n",
       "      <td>9.4</td>\n",
       "      <td>5</td>\n",
       "    </tr>\n",
       "    <tr>\n",
       "      <th>1</th>\n",
       "      <td>7.8</td>\n",
       "      <td>0.88</td>\n",
       "      <td>0.00</td>\n",
       "      <td>2.6</td>\n",
       "      <td>0.098</td>\n",
       "      <td>25.0</td>\n",
       "      <td>67.0</td>\n",
       "      <td>0.9968</td>\n",
       "      <td>3.20</td>\n",
       "      <td>0.68</td>\n",
       "      <td>9.8</td>\n",
       "      <td>5</td>\n",
       "    </tr>\n",
       "    <tr>\n",
       "      <th>2</th>\n",
       "      <td>7.8</td>\n",
       "      <td>0.76</td>\n",
       "      <td>0.04</td>\n",
       "      <td>2.3</td>\n",
       "      <td>0.092</td>\n",
       "      <td>15.0</td>\n",
       "      <td>54.0</td>\n",
       "      <td>0.9970</td>\n",
       "      <td>3.26</td>\n",
       "      <td>0.65</td>\n",
       "      <td>9.8</td>\n",
       "      <td>5</td>\n",
       "    </tr>\n",
       "    <tr>\n",
       "      <th>3</th>\n",
       "      <td>11.2</td>\n",
       "      <td>0.28</td>\n",
       "      <td>0.56</td>\n",
       "      <td>1.9</td>\n",
       "      <td>0.075</td>\n",
       "      <td>17.0</td>\n",
       "      <td>60.0</td>\n",
       "      <td>0.9980</td>\n",
       "      <td>3.16</td>\n",
       "      <td>0.58</td>\n",
       "      <td>9.8</td>\n",
       "      <td>6</td>\n",
       "    </tr>\n",
       "    <tr>\n",
       "      <th>4</th>\n",
       "      <td>7.4</td>\n",
       "      <td>0.70</td>\n",
       "      <td>0.00</td>\n",
       "      <td>1.9</td>\n",
       "      <td>0.076</td>\n",
       "      <td>11.0</td>\n",
       "      <td>34.0</td>\n",
       "      <td>0.9978</td>\n",
       "      <td>3.51</td>\n",
       "      <td>0.56</td>\n",
       "      <td>9.4</td>\n",
       "      <td>5</td>\n",
       "    </tr>\n",
       "  </tbody>\n",
       "</table>\n",
       "</div>"
      ],
      "text/plain": [
       "   fixed acidity  volatile acidity  citric acid  residual sugar  chlorides  \\\n",
       "0            7.4              0.70         0.00             1.9      0.076   \n",
       "1            7.8              0.88         0.00             2.6      0.098   \n",
       "2            7.8              0.76         0.04             2.3      0.092   \n",
       "3           11.2              0.28         0.56             1.9      0.075   \n",
       "4            7.4              0.70         0.00             1.9      0.076   \n",
       "\n",
       "   free sulfur dioxide  total sulfur dioxide  density    pH  sulphates  \\\n",
       "0                 11.0                  34.0   0.9978  3.51       0.56   \n",
       "1                 25.0                  67.0   0.9968  3.20       0.68   \n",
       "2                 15.0                  54.0   0.9970  3.26       0.65   \n",
       "3                 17.0                  60.0   0.9980  3.16       0.58   \n",
       "4                 11.0                  34.0   0.9978  3.51       0.56   \n",
       "\n",
       "   alcohol  quality  \n",
       "0      9.4        5  \n",
       "1      9.8        5  \n",
       "2      9.8        5  \n",
       "3      9.8        6  \n",
       "4      9.4        5  "
      ]
     },
     "execution_count": 2,
     "metadata": {},
     "output_type": "execute_result"
    }
   ],
   "source": [
    "import pandas as pd\n",
    "\n",
    "red_wine = pd.read_csv(\"/kaggle/input/red-wine-quality/red-wine.csv\")\n",
    "red_wine.head()"
   ]
  },
  {
   "cell_type": "code",
   "execution_count": 3,
   "id": "844ad233",
   "metadata": {
    "execution": {
     "iopub.execute_input": "2024-05-12T01:19:54.307238Z",
     "iopub.status.busy": "2024-05-12T01:19:54.306924Z",
     "iopub.status.idle": "2024-05-12T01:19:54.312975Z",
     "shell.execute_reply": "2024-05-12T01:19:54.312012Z"
    },
    "papermill": {
     "duration": 0.014187,
     "end_time": "2024-05-12T01:19:54.314937",
     "exception": false,
     "start_time": "2024-05-12T01:19:54.300750",
     "status": "completed"
    },
    "tags": []
   },
   "outputs": [
    {
     "data": {
      "text/plain": [
       "(1599, 12)"
      ]
     },
     "execution_count": 3,
     "metadata": {},
     "output_type": "execute_result"
    }
   ],
   "source": [
    "red_wine.shape # (rows, columns)"
   ]
  },
  {
   "cell_type": "markdown",
   "id": "95d3a98f",
   "metadata": {
    "papermill": {
     "duration": 0.004807,
     "end_time": "2024-05-12T01:19:54.324888",
     "exception": false,
     "start_time": "2024-05-12T01:19:54.320081",
     "status": "completed"
    },
    "tags": []
   },
   "source": [
    "# 1) Input shape"
   ]
  },
  {
   "cell_type": "code",
   "execution_count": 4,
   "id": "80ea8cb4",
   "metadata": {
    "execution": {
     "iopub.execute_input": "2024-05-12T01:19:54.336399Z",
     "iopub.status.busy": "2024-05-12T01:19:54.336102Z",
     "iopub.status.idle": "2024-05-12T01:19:54.340363Z",
     "shell.execute_reply": "2024-05-12T01:19:54.339466Z"
    },
    "papermill": {
     "duration": 0.012256,
     "end_time": "2024-05-12T01:19:54.342349",
     "exception": false,
     "start_time": "2024-05-12T01:19:54.330093",
     "status": "completed"
    },
    "tags": []
   },
   "outputs": [],
   "source": [
    "input_shape =[11]"
   ]
  },
  {
   "cell_type": "markdown",
   "id": "020699aa",
   "metadata": {
    "papermill": {
     "duration": 0.004873,
     "end_time": "2024-05-12T01:19:54.352146",
     "exception": false,
     "start_time": "2024-05-12T01:19:54.347273",
     "status": "completed"
    },
    "tags": []
   },
   "source": [
    "# 2) Define a linear model"
   ]
  },
  {
   "cell_type": "code",
   "execution_count": 5,
   "id": "7cc8ce13",
   "metadata": {
    "execution": {
     "iopub.execute_input": "2024-05-12T01:19:54.363755Z",
     "iopub.status.busy": "2024-05-12T01:19:54.363213Z",
     "iopub.status.idle": "2024-05-12T01:20:06.588846Z",
     "shell.execute_reply": "2024-05-12T01:20:06.587867Z"
    },
    "papermill": {
     "duration": 12.233755,
     "end_time": "2024-05-12T01:20:06.591011",
     "exception": false,
     "start_time": "2024-05-12T01:19:54.357256",
     "status": "completed"
    },
    "tags": []
   },
   "outputs": [
    {
     "name": "stderr",
     "output_type": "stream",
     "text": [
      "2024-05-12 01:19:56.282346: E external/local_xla/xla/stream_executor/cuda/cuda_dnn.cc:9261] Unable to register cuDNN factory: Attempting to register factory for plugin cuDNN when one has already been registered\n",
      "2024-05-12 01:19:56.282466: E external/local_xla/xla/stream_executor/cuda/cuda_fft.cc:607] Unable to register cuFFT factory: Attempting to register factory for plugin cuFFT when one has already been registered\n",
      "2024-05-12 01:19:56.421238: E external/local_xla/xla/stream_executor/cuda/cuda_blas.cc:1515] Unable to register cuBLAS factory: Attempting to register factory for plugin cuBLAS when one has already been registered\n",
      "/opt/conda/lib/python3.10/site-packages/keras/src/layers/core/dense.py:86: UserWarning: Do not pass an `input_shape`/`input_dim` argument to a layer. When using Sequential models, prefer using an `Input(shape)` object as the first layer in the model instead.\n",
      "  super().__init__(activity_regularizer=activity_regularizer, **kwargs)\n"
     ]
    }
   ],
   "source": [
    "from tensorflow import keras\n",
    "from tensorflow.keras import layers\n",
    "\n",
    "model=keras.Sequential([layers.Dense(units=1, input_shape=[11])])\n"
   ]
  },
  {
   "cell_type": "markdown",
   "id": "8f326326",
   "metadata": {
    "papermill": {
     "duration": 0.005075,
     "end_time": "2024-05-12T01:20:06.601523",
     "exception": false,
     "start_time": "2024-05-12T01:20:06.596448",
     "status": "completed"
    },
    "tags": []
   },
   "source": [
    "# 3) Look at the weights"
   ]
  },
  {
   "cell_type": "code",
   "execution_count": 6,
   "id": "749cbeec",
   "metadata": {
    "execution": {
     "iopub.execute_input": "2024-05-12T01:20:06.614642Z",
     "iopub.status.busy": "2024-05-12T01:20:06.613349Z",
     "iopub.status.idle": "2024-05-12T01:20:06.618004Z",
     "shell.execute_reply": "2024-05-12T01:20:06.617287Z"
    },
    "papermill": {
     "duration": 0.012972,
     "end_time": "2024-05-12T01:20:06.619888",
     "exception": false,
     "start_time": "2024-05-12T01:20:06.606916",
     "status": "completed"
    },
    "tags": []
   },
   "outputs": [],
   "source": [
    "w, b = model.weights"
   ]
  },
  {
   "cell_type": "code",
   "execution_count": 7,
   "id": "9a394af3",
   "metadata": {
    "execution": {
     "iopub.execute_input": "2024-05-12T01:20:06.631382Z",
     "iopub.status.busy": "2024-05-12T01:20:06.631070Z",
     "iopub.status.idle": "2024-05-12T01:20:06.635940Z",
     "shell.execute_reply": "2024-05-12T01:20:06.635070Z"
    },
    "papermill": {
     "duration": 0.013281,
     "end_time": "2024-05-12T01:20:06.638267",
     "exception": false,
     "start_time": "2024-05-12T01:20:06.624986",
     "status": "completed"
    },
    "tags": []
   },
   "outputs": [
    {
     "name": "stdout",
     "output_type": "stream",
     "text": [
      "Weights\n",
      "<KerasVariable shape=(11, 1), dtype=float32, path=sequential/dense/kernel>\n",
      "\n",
      "Bias\n",
      "<KerasVariable shape=(1,), dtype=float32, path=sequential/dense/bias>\n"
     ]
    }
   ],
   "source": [
    "print(\"Weights\\n{}\\n\\nBias\\n{}\".format(w, b))"
   ]
  },
  {
   "cell_type": "code",
   "execution_count": 8,
   "id": "fb62562a",
   "metadata": {
    "execution": {
     "iopub.execute_input": "2024-05-12T01:20:06.650301Z",
     "iopub.status.busy": "2024-05-12T01:20:06.650004Z",
     "iopub.status.idle": "2024-05-12T01:20:06.659785Z",
     "shell.execute_reply": "2024-05-12T01:20:06.658942Z"
    },
    "papermill": {
     "duration": 0.017705,
     "end_time": "2024-05-12T01:20:06.661477",
     "exception": false,
     "start_time": "2024-05-12T01:20:06.643772",
     "status": "completed"
    },
    "tags": []
   },
   "outputs": [
    {
     "name": "stdout",
     "output_type": "stream",
     "text": [
      "Weights\n",
      "[[ 0.49375063]\n",
      " [ 0.636236  ]\n",
      " [ 0.15035063]\n",
      " [ 0.16518426]\n",
      " [-0.50569236]\n",
      " [-0.09893197]\n",
      " [ 0.47153646]\n",
      " [ 0.55953056]\n",
      " [-0.59698313]\n",
      " [-0.69805765]\n",
      " [-0.5527428 ]]\n",
      "\n",
      "Bias\n",
      "[0.]\n"
     ]
    }
   ],
   "source": [
    "w, b = model.get_weights()\n",
    "print(\"Weights\\n{}\\n\\nBias\\n{}\".format(w, b))"
   ]
  },
  {
   "cell_type": "markdown",
   "id": "2bcfcf74",
   "metadata": {
    "papermill": {
     "duration": 0.005095,
     "end_time": "2024-05-12T01:20:06.671926",
     "exception": false,
     "start_time": "2024-05-12T01:20:06.666831",
     "status": "completed"
    },
    "tags": []
   },
   "source": [
    "# Optional: Plot the output of an untrained linear model"
   ]
  },
  {
   "cell_type": "code",
   "execution_count": 9,
   "id": "5aa633c9",
   "metadata": {
    "execution": {
     "iopub.execute_input": "2024-05-12T01:20:06.683871Z",
     "iopub.status.busy": "2024-05-12T01:20:06.683257Z",
     "iopub.status.idle": "2024-05-12T01:20:07.341772Z",
     "shell.execute_reply": "2024-05-12T01:20:07.340955Z"
    },
    "papermill": {
     "duration": 0.667116,
     "end_time": "2024-05-12T01:20:07.344012",
     "exception": false,
     "start_time": "2024-05-12T01:20:06.676896",
     "status": "completed"
    },
    "tags": []
   },
   "outputs": [
    {
     "name": "stdout",
     "output_type": "stream",
     "text": [
      "\u001b[1m4/4\u001b[0m \u001b[32m━━━━━━━━━━━━━━━━━━━━\u001b[0m\u001b[37m\u001b[0m \u001b[1m0s\u001b[0m 7ms/step \n"
     ]
    },
    {
     "data": {
      "image/png": "[encoded data removed]",
      "text/plain": [
       "<Figure size 640x480 with 1 Axes>"
      ]
     },
     "metadata": {},
     "output_type": "display_data"
    }
   ],
   "source": [
    "import tensorflow as tf\n",
    "import matplotlib.pyplot as plt\n",
    "\n",
    "model = keras.Sequential([\n",
    "    layers.Dense(1, input_shape=[1]),\n",
    "])\n",
    "\n",
    "x = tf.linspace(-1.0, 1.0, 100)\n",
    "y = model.predict(x)\n",
    "\n",
    "plt.figure(dpi=100)\n",
    "plt.plot(x, y, 'k')\n",
    "plt.xlim(-1, 1)\n",
    "plt.ylim(-1, 1)\n",
    "plt.xlabel(\"Input: x\")\n",
    "plt.ylabel(\"Target y\")\n",
    "w, b = model.weights # you could also use model.get_weights() here\n",
    "plt.title(\"Weight: {:0.2f}\\nBias: {:0.2f}\".format(w[0][0], b[0]))\n",
    "plt.show()"
   ]
  },
  {
   "cell_type": "code",
   "execution_count": null,
   "id": "0ad5316d",
   "metadata": {
    "papermill": {
     "duration": 0.006086,
     "end_time": "2024-05-12T01:20:07.356806",
     "exception": false,
     "start_time": "2024-05-12T01:20:07.350720",
     "status": "completed"
    },
    "tags": []
   },
   "outputs": [],
   "source": []
  }
 ],
 "metadata": {
  "kaggle": {
   "accelerator": "none",
   "dataSources": [
    {
     "datasetId": 4988732,
     "sourceId": 8387598,
     "sourceType": "datasetVersion"
    }
   ],
   "dockerImageVersionId": 30698,
   "isGpuEnabled": false,
   "isInternetEnabled": true,
   "language": "python",
   "sourceType": "notebook"
  },
  "kernelspec": {
   "display_name": "Python 3",
   "language": "python",
   "name": "python3"
  },
  "language_info": {
   "codemirror_mode": {
    "name": "ipython",
    "version": 3
   },
   "file_extension": ".py",
   "mimetype": "text/x-python",
   "name": "python",
   "nbconvert_exporter": "python",
   "pygments_lexer": "ipython3",
   "version": "3.10.13"
  },
  "papermill": {
   "default_parameters": {},
   "duration": 17.832774,
   "end_time": "2024-05-12T01:20:08.584314",
   "environment_variables": {},
   "exception": null,
   "input_path": "__notebook__.ipynb",
   "output_path": "__notebook__.ipynb",
   "parameters": {},
   "start_time": "2024-05-12T01:19:50.751540",
   "version": "2.5.0"
  }
 },
 "nbformat": 4,
 "nbformat_minor": 5
}
